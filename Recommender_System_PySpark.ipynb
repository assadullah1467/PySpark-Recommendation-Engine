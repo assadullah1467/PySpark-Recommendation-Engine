{
 "cells": [
  {
   "cell_type": "markdown",
   "metadata": {},
   "source": [
    "## Recommender System with PySpark"
   ]
  },
  {
   "cell_type": "markdown",
   "metadata": {},
   "source": [
    "### Data Info\n",
    "The dataset that we are going to use for this chapter is a subset from a famous open sourced movie lens dataset and contains a total of 0.1 million records with three columns (User_Id,title,rating). We will train our recommender model using 75% of the data and test it on the rest of the 25% user ratings."
   ]
  },
  {
   "cell_type": "code",
   "execution_count": 46,
   "metadata": {},
   "outputs": [],
   "source": [
    "#import and create sparksession object\n",
    "from pyspark.sql import SparkSession \n",
    "spark=SparkSession.builder.appName('rc').getOrCreate()"
   ]
  },
  {
   "cell_type": "code",
   "execution_count": 47,
   "metadata": {},
   "outputs": [],
   "source": [
    "#import the required functions and libraries\n",
    "from pyspark.sql.functions import *"
   ]
  },
  {
   "cell_type": "markdown",
   "metadata": {},
   "source": [
    "#### Read in the data"
   ]
  },
  {
   "cell_type": "code",
   "execution_count": 20,
   "metadata": {},
   "outputs": [],
   "source": [
    "#load the dataset and create sprk dataframe\n",
    "df=spark.read.csv('movie_ratings_df.csv',inferSchema=True,header=True)"
   ]
  },
  {
   "cell_type": "code",
   "execution_count": 21,
   "metadata": {},
   "outputs": [
    {
     "name": "stdout",
     "output_type": "stream",
     "text": [
      "(100000, 3)\n"
     ]
    }
   ],
   "source": [
    "#validate the shape of the data \n",
    "print((df.count(),len(df.columns)))"
   ]
  },
  {
   "cell_type": "code",
   "execution_count": 22,
   "metadata": {},
   "outputs": [
    {
     "name": "stdout",
     "output_type": "stream",
     "text": [
      "root\n",
      " |-- userId: integer (nullable = true)\n",
      " |-- title: string (nullable = true)\n",
      " |-- rating: integer (nullable = true)\n",
      "\n"
     ]
    }
   ],
   "source": [
    "#check columns in dataframe\n",
    "df.printSchema()"
   ]
  },
  {
   "cell_type": "markdown",
   "metadata": {},
   "source": [
    "There is a total of three columns out of which two are numerical and the title is categorical. The critical thing with using\n",
    "PySpark for building RS is that we need to have user_id and item_id in numerical form. Hence, we will convert the movie title\n",
    "to numerical values later."
   ]
  },
  {
   "cell_type": "code",
   "execution_count": 23,
   "metadata": {},
   "outputs": [
    {
     "name": "stdout",
     "output_type": "stream",
     "text": [
      "+------+--------------------------------------------+------+\n",
      "|userId|title                                       |rating|\n",
      "+------+--------------------------------------------+------+\n",
      "|291   |Frighteners, The (1996)                     |4     |\n",
      "|13    |Boogie Nights (1997)                        |2     |\n",
      "|872   |Willy Wonka and the Chocolate Factory (1971)|2     |\n",
      "|828   |Blood & Wine (1997)                         |3     |\n",
      "|234   |Singin' in the Rain (1952)                  |5     |\n",
      "|886   |Serial Mom (1994)                           |2     |\n",
      "|918   |Mediterraneo (1991)                         |4     |\n",
      "|150   |Leaving Las Vegas (1995)                    |5     |\n",
      "|716   |Raging Bull (1980)                          |3     |\n",
      "|706   |Liar Liar (1997)                            |4     |\n",
      "+------+--------------------------------------------+------+\n",
      "only showing top 10 rows\n",
      "\n"
     ]
    }
   ],
   "source": [
    "#validate few rows of dataframe in random order\n",
    "df.orderBy(rand()).show(10,False)"
   ]
  },
  {
   "cell_type": "code",
   "execution_count": 24,
   "metadata": {},
   "outputs": [
    {
     "name": "stdout",
     "output_type": "stream",
     "text": [
      "+------+-----+\n",
      "|userId|count|\n",
      "+------+-----+\n",
      "|405   |737  |\n",
      "|655   |685  |\n",
      "|13    |636  |\n",
      "|450   |540  |\n",
      "|276   |518  |\n",
      "|416   |493  |\n",
      "|537   |490  |\n",
      "|303   |484  |\n",
      "|234   |480  |\n",
      "|393   |448  |\n",
      "+------+-----+\n",
      "only showing top 10 rows\n",
      "\n"
     ]
    }
   ],
   "source": [
    "# The users who have have rated the most number of movies\n",
    "df.groupBy('userId').count().orderBy('count',ascending=False).show(10,False)"
   ]
  },
  {
   "cell_type": "code",
   "execution_count": 25,
   "metadata": {},
   "outputs": [
    {
     "name": "stdout",
     "output_type": "stream",
     "text": [
      "+------+-----+\n",
      "|userId|count|\n",
      "+------+-----+\n",
      "|732   |20   |\n",
      "|636   |20   |\n",
      "|631   |20   |\n",
      "|685   |20   |\n",
      "|93    |20   |\n",
      "|596   |20   |\n",
      "|572   |20   |\n",
      "|34    |20   |\n",
      "|926   |20   |\n",
      "|300   |20   |\n",
      "+------+-----+\n",
      "only showing top 10 rows\n",
      "\n"
     ]
    }
   ],
   "source": [
    "#The users who have have rated the least number of movies\n",
    "df.groupBy('userId').count().orderBy('count',ascending=True).show(10,False)"
   ]
  },
  {
   "cell_type": "code",
   "execution_count": 48,
   "metadata": {},
   "outputs": [
    {
     "name": "stdout",
     "output_type": "stream",
     "text": [
      "+-----------------------------+-----+\n",
      "|title                        |count|\n",
      "+-----------------------------+-----+\n",
      "|Star Wars (1977)             |583  |\n",
      "|Contact (1997)               |509  |\n",
      "|Fargo (1996)                 |508  |\n",
      "|Return of the Jedi (1983)    |507  |\n",
      "|Liar Liar (1997)             |485  |\n",
      "|English Patient, The (1996)  |481  |\n",
      "|Scream (1996)                |478  |\n",
      "|Toy Story (1995)             |452  |\n",
      "|Air Force One (1997)         |431  |\n",
      "|Independence Day (ID4) (1996)|429  |\n",
      "+-----------------------------+-----+\n",
      "only showing top 10 rows\n",
      "\n"
     ]
    }
   ],
   "source": [
    "# Movies rated the most number of times \n",
    "df.groupBy('title').count().orderBy('count',ascending=False).show(10,False)"
   ]
  },
  {
   "cell_type": "code",
   "execution_count": 49,
   "metadata": {},
   "outputs": [
    {
     "name": "stdout",
     "output_type": "stream",
     "text": [
      "+-----------------------------------------+-----+\n",
      "|title                                    |count|\n",
      "+-----------------------------------------+-----+\n",
      "|Aiqing wansui (1994)                     |1    |\n",
      "|Leopard Son, The (1996)                  |1    |\n",
      "|Mad Dog Time (1996)                      |1    |\n",
      "|Fear, The (1995)                         |1    |\n",
      "|Lashou shentan (1992)                    |1    |\n",
      "|Target (1995)                            |1    |\n",
      "|JLG/JLG - autoportrait de d�cembre (1994)|1    |\n",
      "|Vie est belle, La (Life is Rosey) (1987) |1    |\n",
      "|Modern Affair, A (1995)                  |1    |\n",
      "|Next Step, The (1995)                    |1    |\n",
      "+-----------------------------------------+-----+\n",
      "only showing top 10 rows\n",
      "\n"
     ]
    }
   ],
   "source": [
    "# Movies rated the least number of times \n",
    "df.groupBy('title').count().orderBy('count',ascending=True).show(10,False)"
   ]
  },
  {
   "cell_type": "markdown",
   "metadata": {},
   "source": [
    "#### Feature Engineering: Transform movietitle to numeric"
   ]
  },
  {
   "cell_type": "code",
   "execution_count": 50,
   "metadata": {},
   "outputs": [],
   "source": [
    "# import String indexer to convert string values to numeric values\n",
    "from pyspark.ml.feature import StringIndexer,IndexToString"
   ]
  },
  {
   "cell_type": "code",
   "execution_count": 29,
   "metadata": {},
   "outputs": [],
   "source": [
    "#creating string indexer to convert the movie title column values into numerical values\n",
    "stringIndexer = StringIndexer(inputCol=\"title\", outputCol=\"title_new\")"
   ]
  },
  {
   "cell_type": "code",
   "execution_count": 30,
   "metadata": {},
   "outputs": [],
   "source": [
    "#applying stringindexer object on dataframe movie title column\n",
    "model = stringIndexer.fit(df)"
   ]
  },
  {
   "cell_type": "code",
   "execution_count": 31,
   "metadata": {},
   "outputs": [],
   "source": [
    "#creating new dataframe with transformed values\n",
    "indexed = model.transform(df)"
   ]
  },
  {
   "cell_type": "code",
   "execution_count": 32,
   "metadata": {},
   "outputs": [
    {
     "name": "stdout",
     "output_type": "stream",
     "text": [
      "+------+------------+------+---------+\n",
      "|userId|       title|rating|title_new|\n",
      "+------+------------+------+---------+\n",
      "|   196|Kolya (1996)|     3|    287.0|\n",
      "|    63|Kolya (1996)|     3|    287.0|\n",
      "|   226|Kolya (1996)|     5|    287.0|\n",
      "|   154|Kolya (1996)|     3|    287.0|\n",
      "|   306|Kolya (1996)|     5|    287.0|\n",
      "|   296|Kolya (1996)|     4|    287.0|\n",
      "|    34|Kolya (1996)|     5|    287.0|\n",
      "|   271|Kolya (1996)|     4|    287.0|\n",
      "|   201|Kolya (1996)|     4|    287.0|\n",
      "|   209|Kolya (1996)|     4|    287.0|\n",
      "+------+------------+------+---------+\n",
      "only showing top 10 rows\n",
      "\n"
     ]
    }
   ],
   "source": [
    "#validate the numerical title values\n",
    "indexed.show(10)"
   ]
  },
  {
   "cell_type": "code",
   "execution_count": 33,
   "metadata": {},
   "outputs": [
    {
     "name": "stdout",
     "output_type": "stream",
     "text": [
      "+---------+-----+\n",
      "|title_new|count|\n",
      "+---------+-----+\n",
      "|0.0      |583  |\n",
      "|1.0      |509  |\n",
      "|2.0      |508  |\n",
      "|3.0      |507  |\n",
      "|4.0      |485  |\n",
      "|5.0      |481  |\n",
      "|6.0      |478  |\n",
      "|7.0      |452  |\n",
      "|8.0      |431  |\n",
      "|9.0      |429  |\n",
      "+---------+-----+\n",
      "only showing top 10 rows\n",
      "\n"
     ]
    }
   ],
   "source": [
    "#number of times each numerical movie title has been rated \n",
    "indexed.groupBy('title_new').count().orderBy('count',ascending=False).show(10,False)"
   ]
  },
  {
   "cell_type": "markdown",
   "metadata": {},
   "source": [
    "#### Split data into train and test:"
   ]
  },
  {
   "cell_type": "code",
   "execution_count": 34,
   "metadata": {},
   "outputs": [],
   "source": [
    "#split the data into training and test datatset\n",
    "train,test=indexed.randomSplit([0.75,0.25])"
   ]
  },
  {
   "cell_type": "code",
   "execution_count": 35,
   "metadata": {},
   "outputs": [
    {
     "data": {
      "text/plain": [
       "74945"
      ]
     },
     "execution_count": 35,
     "metadata": {},
     "output_type": "execute_result"
    }
   ],
   "source": [
    "#count number of records in train set\n",
    "train.count()"
   ]
  },
  {
   "cell_type": "code",
   "execution_count": 36,
   "metadata": {},
   "outputs": [
    {
     "data": {
      "text/plain": [
       "25055"
      ]
     },
     "execution_count": 36,
     "metadata": {},
     "output_type": "execute_result"
    }
   ],
   "source": [
    "#count number of records in test set\n",
    "test.count()"
   ]
  },
  {
   "cell_type": "markdown",
   "metadata": {},
   "source": [
    "#### Training the model:"
   ]
  },
  {
   "cell_type": "code",
   "execution_count": 51,
   "metadata": {},
   "outputs": [],
   "source": [
    "#import ALS recommender function from pyspark ml library\n",
    "from pyspark.ml.recommendation import ALS"
   ]
  },
  {
   "cell_type": "code",
   "execution_count": 52,
   "metadata": {},
   "outputs": [],
   "source": [
    "#Training the recommender model using train datatset\n",
    "rec=ALS(maxIter=10,regParam=0.01,userCol='userId',itemCol='title_new',ratingCol='rating',nonnegative=True,coldStartStrategy=\"drop\")"
   ]
  },
  {
   "cell_type": "code",
   "execution_count": 53,
   "metadata": {},
   "outputs": [],
   "source": [
    "#fit the model on train set\n",
    "rec_model=rec.fit(train)"
   ]
  },
  {
   "cell_type": "code",
   "execution_count": 54,
   "metadata": {},
   "outputs": [],
   "source": [
    "#making predictions on test set \n",
    "predicted_ratings=rec_model.transform(test)"
   ]
  },
  {
   "cell_type": "code",
   "execution_count": 55,
   "metadata": {},
   "outputs": [
    {
     "name": "stdout",
     "output_type": "stream",
     "text": [
      "root\n",
      " |-- userId: integer (nullable = true)\n",
      " |-- title: string (nullable = true)\n",
      " |-- rating: integer (nullable = true)\n",
      " |-- title_new: double (nullable = false)\n",
      " |-- prediction: float (nullable = false)\n",
      "\n"
     ]
    }
   ],
   "source": [
    "#columns in predicted ratings dataframe\n",
    "predicted_ratings.printSchema()"
   ]
  },
  {
   "cell_type": "code",
   "execution_count": 56,
   "metadata": {},
   "outputs": [
    {
     "name": "stdout",
     "output_type": "stream",
     "text": [
      "+------+--------------------+------+---------+----------+\n",
      "|userId|               title|rating|title_new|prediction|\n",
      "+------+--------------------+------+---------+----------+\n",
      "|   640|Apocalypse Now (1...|     5|     91.0|  4.938202|\n",
      "|    23|Mars Attacks! (1996)|     1|    100.0|  3.057589|\n",
      "|   880|Sleepless in Seat...|     3|    103.0| 3.4481475|\n",
      "|   303|      Alien 3 (1992)|     4|    337.0| 2.0629964|\n",
      "|    26|        Nixon (1995)|     3|    372.0| 2.6245914|\n",
      "|   503|    Chinatown (1974)|     5|    212.0| 4.1231394|\n",
      "|    11|Michael Collins (...|     4|    362.0|  3.506594|\n",
      "|   741|  French Kiss (1995)|     4|    399.0| 2.7031903|\n",
      "|   416|Higher Learning (...|     3|    795.0|  4.323633|\n",
      "|   339|Wizard of Oz, The...|     5|     70.0|  4.281655|\n",
      "+------+--------------------+------+---------+----------+\n",
      "only showing top 10 rows\n",
      "\n"
     ]
    }
   ],
   "source": [
    "#predicted vs actual ratings for test set \n",
    "predicted_ratings.orderBy(rand()).show(10)"
   ]
  },
  {
   "cell_type": "markdown",
   "metadata": {},
   "source": [
    "#### Measuring Model Performamce:"
   ]
  },
  {
   "cell_type": "code",
   "execution_count": 77,
   "metadata": {},
   "outputs": [
    {
     "name": "stdout",
     "output_type": "stream",
     "text": [
      "+------+--------------------+------+---------+----------+-----------+\n",
      "|userId|               title|rating|title_new|prediction|        err|\n",
      "+------+--------------------+------+---------+----------+-----------+\n",
      "|   593|That Thing You Do...|     3|    148.0| 4.2289877|  1.2289877|\n",
      "|   193|That Thing You Do...|     4|    148.0| 2.8238962|  1.1761038|\n",
      "|   642|That Thing You Do...|     5|    148.0| 3.3591642|  1.6408358|\n",
      "|   101|That Thing You Do...|     3|    148.0| 3.7438922|  0.7438922|\n",
      "|   406|That Thing You Do...|     3|    148.0| 3.1977828| 0.19778275|\n",
      "|   332|That Thing You Do...|     3|    148.0| 4.4566007|  1.4566007|\n",
      "|   271|That Thing You Do...|     1|    148.0| 3.4159834|  2.4159834|\n",
      "|   388|That Thing You Do...|     4|    148.0|  4.574866|  0.5748658|\n",
      "|   360|That Thing You Do...|     3|    148.0| 3.0426192| 0.04261923|\n",
      "|   416|That Thing You Do...|     4|    148.0|   4.31872| 0.31871986|\n",
      "|   665|That Thing You Do...|     4|    148.0|  3.318143|  0.6818571|\n",
      "|   435|That Thing You Do...|     3|    148.0| 3.4879138| 0.48791385|\n",
      "|   660|That Thing You Do...|     3|    148.0| 2.8124883| 0.18751168|\n",
      "|   768|That Thing You Do...|     2|    148.0|  3.409842|   1.409842|\n",
      "|    13|That Thing You Do...|     3|    148.0|  2.915405|0.084594965|\n",
      "|   760|That Thing You Do...|     5|    148.0| 3.5681815|  1.4318185|\n",
      "|   168|That Thing You Do...|     4|    148.0| 3.7571073| 0.24289274|\n",
      "|   178|That Thing You Do...|     4|    148.0| 3.6040847| 0.39591527|\n",
      "|   164|That Thing You Do...|     3|    148.0|  4.818953|   1.818953|\n",
      "|   429|That Thing You Do...|     4|    148.0|  3.014254|  0.9857459|\n",
      "+------+--------------------+------+---------+----------+-----------+\n",
      "only showing top 20 rows\n",
      "\n"
     ]
    }
   ],
   "source": [
    "predicted_ratings_witherr=predicted_ratings.withColumn('err',abs(predicted_ratings.prediction - predicted_ratings.rating))\n",
    "\n",
    "\n",
    "predicted_ratings_witherr.show()\n"
   ]
  },
  {
   "cell_type": "code",
   "execution_count": 83,
   "metadata": {},
   "outputs": [
    {
     "name": "stdout",
     "output_type": "stream",
     "text": [
      "+------+-----+\n",
      "|rating|count|\n",
      "+------+-----+\n",
      "|     1| 6110|\n",
      "|     2|11370|\n",
      "|     3|27145|\n",
      "|     4|34174|\n",
      "|     5|21201|\n",
      "+------+-----+\n",
      "\n"
     ]
    }
   ],
   "source": [
    "df.groupBy('rating').count().orderBy('rating',ascending=True).show()\n"
   ]
  },
  {
   "cell_type": "code",
   "execution_count": 78,
   "metadata": {},
   "outputs": [
    {
     "name": "stdout",
     "output_type": "stream",
     "text": [
      "+------+------------------+\n",
      "|rating|          avg(err)|\n",
      "+------+------------------+\n",
      "|     1|1.5874335425510455|\n",
      "|     2|1.0766927925360656|\n",
      "|     3|0.6339440821210108|\n",
      "|     4| 0.571613173802319|\n",
      "|     5|0.9554858117940743|\n",
      "+------+------------------+\n",
      "\n"
     ]
    }
   ],
   "source": [
    "predicted_ratings_witherr.groupBy('rating').agg({'err':'mean'}).orderBy('rating',ascending=True).show()"
   ]
  },
  {
   "cell_type": "code",
   "execution_count": 57,
   "metadata": {},
   "outputs": [],
   "source": [
    "#importing Regression Evaluator to measure RMSE\n",
    "from pyspark.ml.evaluation import RegressionEvaluator"
   ]
  },
  {
   "cell_type": "code",
   "execution_count": 58,
   "metadata": {},
   "outputs": [],
   "source": [
    "#create Regressor evaluator object for measuring accuracy\n",
    "evaluator=RegressionEvaluator(metricName='rmse',predictionCol='prediction',labelCol='rating')"
   ]
  },
  {
   "cell_type": "code",
   "execution_count": 59,
   "metadata": {},
   "outputs": [],
   "source": [
    "#apply the RE on predictions dataframe to calculate RMSE\n",
    "rmse=evaluator.evaluate(predicted_ratings)"
   ]
  },
  {
   "cell_type": "code",
   "execution_count": 60,
   "metadata": {},
   "outputs": [
    {
     "name": "stdout",
     "output_type": "stream",
     "text": [
      "1.028274688597927\n"
     ]
    }
   ],
   "source": [
    "#print RMSE error\n",
    "print(rmse)"
   ]
  },
  {
   "cell_type": "markdown",
   "metadata": {},
   "source": [
    "#### Recommending movies: "
   ]
  },
  {
   "cell_type": "code",
   "execution_count": 91,
   "metadata": {},
   "outputs": [],
   "source": [
    "#create dataset of all distinct movies \n",
    "unique_movies=indexed.select('title_new').distinct()"
   ]
  },
  {
   "cell_type": "code",
   "execution_count": 92,
   "metadata": {},
   "outputs": [
    {
     "data": {
      "text/plain": [
       "1664"
      ]
     },
     "execution_count": 92,
     "metadata": {},
     "output_type": "execute_result"
    }
   ],
   "source": [
    "#number of unique movies\n",
    "unique_movies.count()"
   ]
  },
  {
   "cell_type": "code",
   "execution_count": 93,
   "metadata": {},
   "outputs": [],
   "source": [
    "#assigning alias name 'a' to unique movies df\n",
    "a = unique_movies.alias('a')"
   ]
  },
  {
   "cell_type": "code",
   "execution_count": 110,
   "metadata": {},
   "outputs": [],
   "source": [
    "user_id=100"
   ]
  },
  {
   "cell_type": "code",
   "execution_count": 111,
   "metadata": {},
   "outputs": [],
   "source": [
    "#creating another dataframe which contains already watched movie by active user \n",
    "watched_movies=indexed.filter(indexed['userId'] == user_id).select('title_new').distinct()"
   ]
  },
  {
   "cell_type": "code",
   "execution_count": 112,
   "metadata": {},
   "outputs": [
    {
     "data": {
      "text/plain": [
       "59"
      ]
     },
     "execution_count": 112,
     "metadata": {},
     "output_type": "execute_result"
    }
   ],
   "source": [
    "#number of movies already rated \n",
    "watched_movies.count()"
   ]
  },
  {
   "cell_type": "code",
   "execution_count": 114,
   "metadata": {},
   "outputs": [],
   "source": [
    "#assigning alias name 'b' to watched movies df\n",
    "b=watched_movies.alias('b')"
   ]
  },
  {
   "cell_type": "code",
   "execution_count": 115,
   "metadata": {},
   "outputs": [],
   "source": [
    "#joining both tables on left join \n",
    "total_movies = a.join(b, a.title_new == b.title_new,how='left')\n"
   ]
  },
  {
   "cell_type": "code",
   "execution_count": 116,
   "metadata": {},
   "outputs": [
    {
     "name": "stdout",
     "output_type": "stream",
     "text": [
      "+---------+---------+\n",
      "|title_new|title_new|\n",
      "+---------+---------+\n",
      "|558.0    |null     |\n",
      "|305.0    |null     |\n",
      "|299.0    |null     |\n",
      "|596.0    |null     |\n",
      "|769.0    |null     |\n",
      "|934.0    |null     |\n",
      "|496.0    |null     |\n",
      "|1051.0   |null     |\n",
      "|692.0    |null     |\n",
      "|810.0    |null     |\n",
      "+---------+---------+\n",
      "only showing top 10 rows\n",
      "\n"
     ]
    }
   ],
   "source": [
    "total_movies.show(10,False)"
   ]
  },
  {
   "cell_type": "code",
   "execution_count": 117,
   "metadata": {},
   "outputs": [],
   "source": [
    "#selecting movies which active user is yet to rate or watch\n",
    "remaining_movies=total_movies.where(col(\"b.title_new\").isNull()).select(a.title_new).distinct()"
   ]
  },
  {
   "cell_type": "code",
   "execution_count": 118,
   "metadata": {},
   "outputs": [
    {
     "data": {
      "text/plain": [
       "1605"
      ]
     },
     "execution_count": 118,
     "metadata": {},
     "output_type": "execute_result"
    }
   ],
   "source": [
    "#number of movies user is yet to rate \n",
    "remaining_movies.count()"
   ]
  },
  {
   "cell_type": "code",
   "execution_count": 119,
   "metadata": {},
   "outputs": [],
   "source": [
    "#adding new column of user_Id of active useer to remaining movies df \n",
    "remaining_movies=remaining_movies.withColumn(\"userId\",lit(int(user_id)))\n"
   ]
  },
  {
   "cell_type": "code",
   "execution_count": 120,
   "metadata": {},
   "outputs": [
    {
     "name": "stdout",
     "output_type": "stream",
     "text": [
      "+---------+------+\n",
      "|title_new|userId|\n",
      "+---------+------+\n",
      "|558.0    |100   |\n",
      "|305.0    |100   |\n",
      "|299.0    |100   |\n",
      "|596.0    |100   |\n",
      "|769.0    |100   |\n",
      "|934.0    |100   |\n",
      "|496.0    |100   |\n",
      "|1051.0   |100   |\n",
      "|692.0    |100   |\n",
      "|810.0    |100   |\n",
      "+---------+------+\n",
      "only showing top 10 rows\n",
      "\n"
     ]
    }
   ],
   "source": [
    "remaining_movies.show(10,False)"
   ]
  },
  {
   "cell_type": "code",
   "execution_count": 121,
   "metadata": {},
   "outputs": [],
   "source": [
    "#making recommendations using ALS recommender model and selecting only top 'n' movies\n",
    "recommendations=rec_model.transform(remaining_movies).orderBy('prediction',ascending=False)"
   ]
  },
  {
   "cell_type": "code",
   "execution_count": 122,
   "metadata": {},
   "outputs": [
    {
     "name": "stdout",
     "output_type": "stream",
     "text": [
      "+---------+------+----------+\n",
      "|title_new|userId|prediction|\n",
      "+---------+------+----------+\n",
      "|1141.0   |100   |5.3275824 |\n",
      "|1372.0   |100   |5.1144414 |\n",
      "|1266.0   |100   |5.0234303 |\n",
      "|1233.0   |100   |4.813241  |\n",
      "|1178.0   |100   |4.803429  |\n",
      "+---------+------+----------+\n",
      "only showing top 5 rows\n",
      "\n"
     ]
    }
   ],
   "source": [
    "recommendations.show(5,False)"
   ]
  },
  {
   "cell_type": "code",
   "execution_count": 123,
   "metadata": {},
   "outputs": [],
   "source": [
    "#converting title_new values back to movie titles\n",
    "movie_title = IndexToString(inputCol=\"title_new\", outputCol=\"title\",labels=model.labels)\n",
    "\n",
    "final_recommendations=movie_title.transform(recommendations)\n"
   ]
  },
  {
   "cell_type": "code",
   "execution_count": 124,
   "metadata": {},
   "outputs": [
    {
     "name": "stdout",
     "output_type": "stream",
     "text": [
      "+---------+------+----------+------------------------------+\n",
      "|title_new|userId|prediction|title                         |\n",
      "+---------+------+----------+------------------------------+\n",
      "|1141.0   |100   |5.3275824 |Unhook the Stars (1996)       |\n",
      "|1372.0   |100   |5.1144414 |Schizopolis (1996)            |\n",
      "|1266.0   |100   |5.0234303 |Hollow Reed (1996)            |\n",
      "|1233.0   |100   |4.813241  |Man of No Importance, A (1994)|\n",
      "|1178.0   |100   |4.803429  |Little Princess, The (1939)   |\n",
      "|82.0     |100   |4.7329516 |It's a Wonderful Life (1946)  |\n",
      "|10.0     |100   |4.703681  |Raiders of the Lost Ark (1981)|\n",
      "|266.0    |100   |4.6893234 |Great Escape, The (1963)      |\n",
      "|1433.0   |100   |4.636163  |Boys, Les (1997)              |\n",
      "|329.0    |100   |4.6015935 |Miracle on 34th Street (1994) |\n",
      "+---------+------+----------+------------------------------+\n",
      "only showing top 10 rows\n",
      "\n"
     ]
    }
   ],
   "source": [
    "final_recommendations.show(10,False)"
   ]
  },
  {
   "cell_type": "markdown",
   "metadata": {},
   "source": [
    "#### Wrapping everything into a function for reuse:"
   ]
  },
  {
   "cell_type": "code",
   "execution_count": 125,
   "metadata": {},
   "outputs": [],
   "source": [
    "#create function to recommend top 'n' movies to any particular user\n",
    "def top_movies(user_id,n):\n",
    "    \"\"\"\n",
    "    This function returns the top 'n' movies that user has not seen yet but might like \n",
    "    \n",
    "    \"\"\"\n",
    "    #assigning alias name 'a' to unique movies df\n",
    "    a = unique_movies.alias('a')\n",
    "    \n",
    "    #creating another dataframe which contains already watched movie by active user \n",
    "    watched_movies=indexed.filter(indexed['userId'] == user_id).select('title_new')\n",
    "    \n",
    "    #assigning alias name 'b' to watched movies df\n",
    "    b=watched_movies.alias('b')\n",
    "    \n",
    "    #joining both tables on left join \n",
    "    total_movies = a.join(b, a.title_new == b.title_new,how='left')\n",
    "    \n",
    "    #selecting movies which active user is yet to rate or watch\n",
    "    remaining_movies=total_movies.where(col(\"b.title_new\").isNull()).select(a.title_new).distinct()\n",
    "    \n",
    "    \n",
    "    #adding new column of user_Id of active useer to remaining movies df \n",
    "    remaining_movies=remaining_movies.withColumn(\"userId\",lit(int(user_id)))\n",
    "    \n",
    "    \n",
    "    #making recommendations using ALS recommender model and selecting only top 'n' movies\n",
    "    recommendations=rec_model.transform(remaining_movies).orderBy('prediction',ascending=False).limit(n)\n",
    "    \n",
    "    \n",
    "    #adding columns of movie titles in recommendations\n",
    "    movie_title = IndexToString(inputCol=\"title_new\", outputCol=\"title\",labels=model.labels)\n",
    "    final_recommendations=movie_title.transform(recommendations)\n",
    "    \n",
    "    #return the recommendations to active user\n",
    "    return final_recommendations.show(n,False)"
   ]
  },
  {
   "cell_type": "code",
   "execution_count": 126,
   "metadata": {},
   "outputs": [
    {
     "name": "stdout",
     "output_type": "stream",
     "text": [
      "+---------+------+----------+------------------------------+\n",
      "|title_new|userId|prediction|title                         |\n",
      "+---------+------+----------+------------------------------+\n",
      "|1141.0   |100   |5.3275824 |Unhook the Stars (1996)       |\n",
      "|1372.0   |100   |5.1144414 |Schizopolis (1996)            |\n",
      "|1266.0   |100   |5.0234303 |Hollow Reed (1996)            |\n",
      "|1233.0   |100   |4.813241  |Man of No Importance, A (1994)|\n",
      "|1178.0   |100   |4.803429  |Little Princess, The (1939)   |\n",
      "|82.0     |100   |4.7329516 |It's a Wonderful Life (1946)  |\n",
      "|10.0     |100   |4.703681  |Raiders of the Lost Ark (1981)|\n",
      "|266.0    |100   |4.6893234 |Great Escape, The (1963)      |\n",
      "|1433.0   |100   |4.636163  |Boys, Les (1997)              |\n",
      "|329.0    |100   |4.6015935 |Miracle on 34th Street (1994) |\n",
      "+---------+------+----------+------------------------------+\n",
      "\n"
     ]
    }
   ],
   "source": [
    "top_movies(100,10)"
   ]
  },
  {
   "cell_type": "code",
   "execution_count": 127,
   "metadata": {},
   "outputs": [
    {
     "name": "stdout",
     "output_type": "stream",
     "text": [
      "+---------+------+----------+-------------------------------------------------+\n",
      "|title_new|userId|prediction|title                                            |\n",
      "+---------+------+----------+-------------------------------------------------+\n",
      "|1166.0   |405   |4.228817  |In the Realm of the Senses (Ai no corrida) (1976)|\n",
      "|1005.0   |405   |4.2038856 |Haunted World of Edward D. Wood Jr., The (1995)  |\n",
      "|1113.0   |405   |4.1378055 |Wonderland (1997)                                |\n",
      "|698.0    |405   |3.897505  |Charade (1963)                                   |\n",
      "|946.0    |405   |3.8461444 |Gridlock'd (1997)                                |\n",
      "|478.0    |405   |3.806411  |Bringing Up Baby (1938)                          |\n",
      "|768.0    |405   |3.6552014 |Fast, Cheap & Out of Control (1997)              |\n",
      "|297.0    |405   |3.6219516 |Rosewood (1997)                                  |\n",
      "|1321.0   |405   |3.6044958 |Chasers (1994)                                   |\n",
      "|1233.0   |405   |3.5489368 |Man of No Importance, A (1994)                   |\n",
      "+---------+------+----------+-------------------------------------------------+\n",
      "\n"
     ]
    }
   ],
   "source": [
    "top_movies(405,10)"
   ]
  }
 ],
 "metadata": {
  "kernelspec": {
   "display_name": "Python 3",
   "language": "python",
   "name": "python3"
  },
  "language_info": {
   "codemirror_mode": {
    "name": "ipython",
    "version": 3
   },
   "file_extension": ".py",
   "mimetype": "text/x-python",
   "name": "python",
   "nbconvert_exporter": "python",
   "pygments_lexer": "ipython3",
   "version": "3.6.7"
  }
 },
 "nbformat": 4,
 "nbformat_minor": 2
}
